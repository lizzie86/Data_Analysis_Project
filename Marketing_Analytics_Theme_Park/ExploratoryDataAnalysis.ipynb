{
 "cells": [
  {
   "cell_type": "code",
   "execution_count": 1,
   "id": "04325f44",
   "metadata": {},
   "outputs": [],
   "source": [
    "import pandas as pd\n",
    "import matplotlib.pyplot as plt\n",
    "import numpy as np\n",
    "import seaborn as sns"
   ]
  },
  {
   "cell_type": "code",
   "execution_count": 2,
   "id": "85c8ca9e",
   "metadata": {},
   "outputs": [],
   "source": [
    "lobster = pd.read_csv(\"/Users/jiunlee/Documents/Fall_23/MarketingAnalytics/Assignment1/lobster_23.csv\")"
   ]
  },
  {
   "cell_type": "markdown",
   "id": "c2448239",
   "metadata": {},
   "source": [
    "# Exploratory Data Analysis"
   ]
  },
  {
   "cell_type": "markdown",
   "id": "c3854427",
   "metadata": {},
   "source": [
    "## A"
   ]
  },
  {
   "cell_type": "code",
   "execution_count": 3,
   "id": "c61b8c38",
   "metadata": {
    "scrolled": true
   },
   "outputs": [
    {
     "data": {
      "text/html": [
       "<div>\n",
       "<style scoped>\n",
       "    .dataframe tbody tr th:only-of-type {\n",
       "        vertical-align: middle;\n",
       "    }\n",
       "\n",
       "    .dataframe tbody tr th {\n",
       "        vertical-align: top;\n",
       "    }\n",
       "\n",
       "    .dataframe thead th {\n",
       "        text-align: right;\n",
       "    }\n",
       "</style>\n",
       "<table border=\"1\" class=\"dataframe\">\n",
       "  <thead>\n",
       "    <tr style=\"text-align: right;\">\n",
       "      <th></th>\n",
       "      <th>Date</th>\n",
       "      <th>weekday</th>\n",
       "      <th>high_temp</th>\n",
       "      <th>precip_total</th>\n",
       "      <th>unique_visitors</th>\n",
       "      <th>gold_zone_rev</th>\n",
       "      <th>park_merch_rev</th>\n",
       "      <th>online_merch_rev</th>\n",
       "      <th>lobsterama_rev</th>\n",
       "      <th>lost_found_items</th>\n",
       "      <th>first_aid_incidents</th>\n",
       "      <th>operational_status</th>\n",
       "      <th>staff_hours</th>\n",
       "      <th>total_rev</th>\n",
       "      <th>sign_ups24</th>\n",
       "      <th>merch_promo</th>\n",
       "    </tr>\n",
       "  </thead>\n",
       "  <tbody>\n",
       "    <tr>\n",
       "      <th>0</th>\n",
       "      <td>2023-05-29</td>\n",
       "      <td>Mon</td>\n",
       "      <td>71</td>\n",
       "      <td>0.00</td>\n",
       "      <td>5448</td>\n",
       "      <td>9623</td>\n",
       "      <td>6028</td>\n",
       "      <td>39</td>\n",
       "      <td>9665</td>\n",
       "      <td>9</td>\n",
       "      <td>1</td>\n",
       "      <td>95.4</td>\n",
       "      <td>2042.83</td>\n",
       "      <td>193414.58</td>\n",
       "      <td>61.0</td>\n",
       "      <td>0</td>\n",
       "    </tr>\n",
       "    <tr>\n",
       "      <th>1</th>\n",
       "      <td>2023-05-30</td>\n",
       "      <td>Tue</td>\n",
       "      <td>66</td>\n",
       "      <td>0.00</td>\n",
       "      <td>3977</td>\n",
       "      <td>6462</td>\n",
       "      <td>2461</td>\n",
       "      <td>550</td>\n",
       "      <td>7368</td>\n",
       "      <td>2</td>\n",
       "      <td>6</td>\n",
       "      <td>93.3</td>\n",
       "      <td>1223.69</td>\n",
       "      <td>111946.06</td>\n",
       "      <td>76.0</td>\n",
       "      <td>0</td>\n",
       "    </tr>\n",
       "    <tr>\n",
       "      <th>2</th>\n",
       "      <td>2023-05-31</td>\n",
       "      <td>Wed</td>\n",
       "      <td>71</td>\n",
       "      <td>0.00</td>\n",
       "      <td>4634</td>\n",
       "      <td>5495</td>\n",
       "      <td>2825</td>\n",
       "      <td>1188</td>\n",
       "      <td>6991</td>\n",
       "      <td>3</td>\n",
       "      <td>3</td>\n",
       "      <td>86.6</td>\n",
       "      <td>1425.85</td>\n",
       "      <td>130465.64</td>\n",
       "      <td>92.0</td>\n",
       "      <td>0</td>\n",
       "    </tr>\n",
       "    <tr>\n",
       "      <th>3</th>\n",
       "      <td>2023-06-01</td>\n",
       "      <td>Thu</td>\n",
       "      <td>84</td>\n",
       "      <td>T</td>\n",
       "      <td>3012</td>\n",
       "      <td>10683</td>\n",
       "      <td>2379</td>\n",
       "      <td>1184</td>\n",
       "      <td>7803</td>\n",
       "      <td>4</td>\n",
       "      <td>4</td>\n",
       "      <td>90.8</td>\n",
       "      <td>976.80</td>\n",
       "      <td>105386.53</td>\n",
       "      <td>67.0</td>\n",
       "      <td>1</td>\n",
       "    </tr>\n",
       "    <tr>\n",
       "      <th>4</th>\n",
       "      <td>2023-06-02</td>\n",
       "      <td>Fri</td>\n",
       "      <td>85</td>\n",
       "      <td>0.09</td>\n",
       "      <td>5741</td>\n",
       "      <td>8932</td>\n",
       "      <td>4242</td>\n",
       "      <td>187</td>\n",
       "      <td>10173</td>\n",
       "      <td>7</td>\n",
       "      <td>3</td>\n",
       "      <td>86.2</td>\n",
       "      <td>1461.38</td>\n",
       "      <td>172071.35</td>\n",
       "      <td>93.0</td>\n",
       "      <td>0</td>\n",
       "    </tr>\n",
       "  </tbody>\n",
       "</table>\n",
       "</div>"
      ],
      "text/plain": [
       "         Date weekday  high_temp precip_total  unique_visitors  gold_zone_rev  \\\n",
       "0  2023-05-29     Mon         71         0.00             5448           9623   \n",
       "1  2023-05-30     Tue         66         0.00             3977           6462   \n",
       "2  2023-05-31     Wed         71         0.00             4634           5495   \n",
       "3  2023-06-01     Thu         84            T             3012          10683   \n",
       "4  2023-06-02     Fri         85         0.09             5741           8932   \n",
       "\n",
       "   park_merch_rev  online_merch_rev  lobsterama_rev  lost_found_items  \\\n",
       "0            6028                39            9665                 9   \n",
       "1            2461               550            7368                 2   \n",
       "2            2825              1188            6991                 3   \n",
       "3            2379              1184            7803                 4   \n",
       "4            4242               187           10173                 7   \n",
       "\n",
       "   first_aid_incidents  operational_status  staff_hours  total_rev  \\\n",
       "0                    1                95.4      2042.83  193414.58   \n",
       "1                    6                93.3      1223.69  111946.06   \n",
       "2                    3                86.6      1425.85  130465.64   \n",
       "3                    4                90.8       976.80  105386.53   \n",
       "4                    3                86.2      1461.38  172071.35   \n",
       "\n",
       "   sign_ups24  merch_promo  \n",
       "0        61.0            0  \n",
       "1        76.0            0  \n",
       "2        92.0            0  \n",
       "3        67.0            1  \n",
       "4        93.0            0  "
      ]
     },
     "execution_count": 3,
     "metadata": {},
     "output_type": "execute_result"
    }
   ],
   "source": [
    "#A\n",
    "lobster.head()"
   ]
  },
  {
   "cell_type": "markdown",
   "id": "e89c7dc5",
   "metadata": {},
   "source": [
    "## B. When using head(), 5 rows are visible."
   ]
  },
  {
   "cell_type": "markdown",
   "id": "229b4879",
   "metadata": {},
   "source": [
    "## C"
   ]
  },
  {
   "cell_type": "code",
   "execution_count": 4,
   "id": "89f7d09a",
   "metadata": {
    "scrolled": true
   },
   "outputs": [
    {
     "data": {
      "text/plain": [
       "(99, 16)"
      ]
     },
     "execution_count": 4,
     "metadata": {},
     "output_type": "execute_result"
    }
   ],
   "source": [
    "#C\n",
    "lobster.shape"
   ]
  },
  {
   "cell_type": "markdown",
   "id": "afec0820",
   "metadata": {},
   "source": [
    "**C. There are 99 rows and 16 columns in the dataset.**"
   ]
  },
  {
   "cell_type": "markdown",
   "id": "a6457c91",
   "metadata": {},
   "source": [
    "## D"
   ]
  },
  {
   "cell_type": "code",
   "execution_count": 22,
   "id": "2a278bd0",
   "metadata": {},
   "outputs": [
    {
     "data": {
      "text/plain": [
       "Date                    object\n",
       "weekday                 object\n",
       "high_temp                int64\n",
       "precip_total           float64\n",
       "unique_visitors          int64\n",
       "gold_zone_rev            int64\n",
       "park_merch_rev           int64\n",
       "online_merch_rev         int64\n",
       "lobsterama_rev           int64\n",
       "lost_found_items         int64\n",
       "first_aid_incidents      int64\n",
       "operational_status     float64\n",
       "staff_hours            float64\n",
       "total_rev              float64\n",
       "sign_ups24             float64\n",
       "merch_promo              int64\n",
       "weekend                  int64\n",
       "very_rainy               int64\n",
       "A                        int64\n",
       "B                        int64\n",
       "dtype: object"
      ]
     },
     "execution_count": 22,
     "metadata": {},
     "output_type": "execute_result"
    }
   ],
   "source": [
    "lobster.dtypes"
   ]
  },
  {
   "cell_type": "markdown",
   "id": "8514d0a9",
   "metadata": {},
   "source": [
    "**D(a). \n",
    "Except for the categorical variables including 'Date' and 'merch_promo', other variables are all numeric.**"
   ]
  },
  {
   "cell_type": "markdown",
   "id": "33d93a58",
   "metadata": {},
   "source": [
    "## E"
   ]
  },
  {
   "cell_type": "markdown",
   "id": "8d8fa4b3",
   "metadata": {},
   "source": [
    "**E(a).'T' on a weather report means trace precipitation, which means it 's too tiny to measure accurately.**"
   ]
  },
  {
   "cell_type": "code",
   "execution_count": 23,
   "id": "085af22d",
   "metadata": {},
   "outputs": [
    {
     "data": {
      "text/plain": [
       "0     0.00000\n",
       "1     0.00000\n",
       "2     0.00000\n",
       "3     0.00001\n",
       "4     0.09000\n",
       "       ...   \n",
       "94    0.00000\n",
       "95    0.00000\n",
       "96    0.00000\n",
       "97    0.00000\n",
       "98    0.00000\n",
       "Name: precip_total, Length: 99, dtype: float64"
      ]
     },
     "execution_count": 23,
     "metadata": {},
     "output_type": "execute_result"
    }
   ],
   "source": [
    "lobster['precip_total']"
   ]
  },
  {
   "cell_type": "code",
   "execution_count": 24,
   "id": "9bab053c",
   "metadata": {},
   "outputs": [],
   "source": [
    "# E(b). Replacing 'T' with a suitable numeric alternative\n",
    "lobster['precip_total'] = lobster['precip_total'].replace('T', '0.00001')\n",
    "lobster['precip_total'] = lobster['precip_total'].astype(float)\n"
   ]
  },
  {
   "cell_type": "markdown",
   "id": "58a41e21",
   "metadata": {},
   "source": [
    "## F"
   ]
  },
  {
   "cell_type": "code",
   "execution_count": 25,
   "id": "0be70433",
   "metadata": {},
   "outputs": [
    {
     "data": {
      "text/plain": [
       "array(['Mon', 'Tue', 'Wed', 'Thu', 'Fri', 'Sat', 'Sun'], dtype=object)"
      ]
     },
     "execution_count": 25,
     "metadata": {},
     "output_type": "execute_result"
    }
   ],
   "source": [
    "lobster['weekday'].unique() #Fri, Sat, Sunday will be considered as weekend"
   ]
  },
  {
   "cell_type": "code",
   "execution_count": 26,
   "id": "a21b61ef",
   "metadata": {},
   "outputs": [
    {
     "data": {
      "text/html": [
       "<div>\n",
       "<style scoped>\n",
       "    .dataframe tbody tr th:only-of-type {\n",
       "        vertical-align: middle;\n",
       "    }\n",
       "\n",
       "    .dataframe tbody tr th {\n",
       "        vertical-align: top;\n",
       "    }\n",
       "\n",
       "    .dataframe thead th {\n",
       "        text-align: right;\n",
       "    }\n",
       "</style>\n",
       "<table border=\"1\" class=\"dataframe\">\n",
       "  <thead>\n",
       "    <tr style=\"text-align: right;\">\n",
       "      <th></th>\n",
       "      <th>weekday</th>\n",
       "      <th>weekend</th>\n",
       "    </tr>\n",
       "  </thead>\n",
       "  <tbody>\n",
       "    <tr>\n",
       "      <th>0</th>\n",
       "      <td>Mon</td>\n",
       "      <td>0</td>\n",
       "    </tr>\n",
       "    <tr>\n",
       "      <th>1</th>\n",
       "      <td>Tue</td>\n",
       "      <td>0</td>\n",
       "    </tr>\n",
       "    <tr>\n",
       "      <th>2</th>\n",
       "      <td>Wed</td>\n",
       "      <td>0</td>\n",
       "    </tr>\n",
       "    <tr>\n",
       "      <th>3</th>\n",
       "      <td>Thu</td>\n",
       "      <td>0</td>\n",
       "    </tr>\n",
       "    <tr>\n",
       "      <th>4</th>\n",
       "      <td>Fri</td>\n",
       "      <td>1</td>\n",
       "    </tr>\n",
       "    <tr>\n",
       "      <th>...</th>\n",
       "      <td>...</td>\n",
       "      <td>...</td>\n",
       "    </tr>\n",
       "    <tr>\n",
       "      <th>94</th>\n",
       "      <td>Thu</td>\n",
       "      <td>0</td>\n",
       "    </tr>\n",
       "    <tr>\n",
       "      <th>95</th>\n",
       "      <td>Fri</td>\n",
       "      <td>1</td>\n",
       "    </tr>\n",
       "    <tr>\n",
       "      <th>96</th>\n",
       "      <td>Sat</td>\n",
       "      <td>1</td>\n",
       "    </tr>\n",
       "    <tr>\n",
       "      <th>97</th>\n",
       "      <td>Sun</td>\n",
       "      <td>1</td>\n",
       "    </tr>\n",
       "    <tr>\n",
       "      <th>98</th>\n",
       "      <td>Mon</td>\n",
       "      <td>0</td>\n",
       "    </tr>\n",
       "  </tbody>\n",
       "</table>\n",
       "<p>99 rows × 2 columns</p>\n",
       "</div>"
      ],
      "text/plain": [
       "   weekday  weekend\n",
       "0      Mon        0\n",
       "1      Tue        0\n",
       "2      Wed        0\n",
       "3      Thu        0\n",
       "4      Fri        1\n",
       "..     ...      ...\n",
       "94     Thu        0\n",
       "95     Fri        1\n",
       "96     Sat        1\n",
       "97     Sun        1\n",
       "98     Mon        0\n",
       "\n",
       "[99 rows x 2 columns]"
      ]
     },
     "execution_count": 26,
     "metadata": {},
     "output_type": "execute_result"
    }
   ],
   "source": [
    "#F(a). Create a new variable that indicates it's weekend or not.\n",
    "weekdays = lobster['weekday']\n",
    "weekend=[]\n",
    "for weekday in weekdays:\n",
    "    if (weekday=='Fri')|(weekday=='Sat')|(weekday=='Sun'): #Weekend=1(Fri,Sat,Sun)\n",
    "        value = 1\n",
    "        weekend.append(value)\n",
    "    else:\n",
    "        value=0 #weekend=0 (weekdays)\n",
    "        weekend.append(value)\n",
    "\n",
    "#making new column\n",
    "lobster['weekend'] = weekend\n",
    "\n",
    "#confirming\n",
    "lobster[['weekday','weekend']] #look great."
   ]
  },
  {
   "cell_type": "code",
   "execution_count": 27,
   "id": "5b3bc6f8",
   "metadata": {
    "scrolled": true
   },
   "outputs": [
    {
     "data": {
      "text/plain": [
       "array([0.00e+00, 1.00e-05, 9.00e-02, 4.60e-01, 3.70e-01, 2.90e-01,\n",
       "       1.00e-02, 1.30e-01, 1.28e+00, 8.00e-02, 1.84e+00, 6.00e-02,\n",
       "       3.00e-02, 7.00e-02, 5.80e-01, 1.80e+00, 4.70e-01, 2.70e-01,\n",
       "       9.30e-01, 2.10e-01, 2.00e-02, 4.00e-01, 8.60e-01, 1.80e-01,\n",
       "       4.00e-02, 5.20e-01, 1.50e-01, 1.03e+00, 8.10e-01, 1.60e-01,\n",
       "       1.11e+00, 5.00e-02, 9.40e-01, 8.30e-01])"
      ]
     },
     "execution_count": 27,
     "metadata": {},
     "output_type": "execute_result"
    }
   ],
   "source": [
    "lobster['precip_total'].unique()"
   ]
  },
  {
   "cell_type": "code",
   "execution_count": 30,
   "id": "c2561202",
   "metadata": {},
   "outputs": [
    {
     "data": {
      "text/html": [
       "<div>\n",
       "<style scoped>\n",
       "    .dataframe tbody tr th:only-of-type {\n",
       "        vertical-align: middle;\n",
       "    }\n",
       "\n",
       "    .dataframe tbody tr th {\n",
       "        vertical-align: top;\n",
       "    }\n",
       "\n",
       "    .dataframe thead th {\n",
       "        text-align: right;\n",
       "    }\n",
       "</style>\n",
       "<table border=\"1\" class=\"dataframe\">\n",
       "  <thead>\n",
       "    <tr style=\"text-align: right;\">\n",
       "      <th></th>\n",
       "      <th>precip_total</th>\n",
       "      <th>very_rainy</th>\n",
       "    </tr>\n",
       "  </thead>\n",
       "  <tbody>\n",
       "    <tr>\n",
       "      <th>15</th>\n",
       "      <td>1.28</td>\n",
       "      <td>1</td>\n",
       "    </tr>\n",
       "    <tr>\n",
       "      <th>19</th>\n",
       "      <td>1.84</td>\n",
       "      <td>1</td>\n",
       "    </tr>\n",
       "    <tr>\n",
       "      <th>34</th>\n",
       "      <td>1.80</td>\n",
       "      <td>1</td>\n",
       "    </tr>\n",
       "    <tr>\n",
       "      <th>71</th>\n",
       "      <td>1.03</td>\n",
       "      <td>1</td>\n",
       "    </tr>\n",
       "    <tr>\n",
       "      <th>81</th>\n",
       "      <td>1.11</td>\n",
       "      <td>1</td>\n",
       "    </tr>\n",
       "  </tbody>\n",
       "</table>\n",
       "</div>"
      ],
      "text/plain": [
       "    precip_total  very_rainy\n",
       "15          1.28           1\n",
       "19          1.84           1\n",
       "34          1.80           1\n",
       "71          1.03           1\n",
       "81          1.11           1"
      ]
     },
     "execution_count": 30,
     "metadata": {},
     "output_type": "execute_result"
    }
   ],
   "source": [
    "#F(b). Create new column 'very_rainy' that total precipitation is over 1.0\n",
    "very_rainy = []\n",
    "for rainyday in lobster['precip_total']:\n",
    "    if rainyday >= 1.0:\n",
    "        value = 1 #very rainy\n",
    "        very_rainy.append(value)\n",
    "    else:\n",
    "        value =0 #not very rainy\n",
    "        very_rainy.append(value)\n",
    "        \n",
    "lobster['very_rainy'] = very_rainy #make new column\n",
    "\n",
    "lobster.loc[lobster['very_rainy'] == 1][['precip_total','very_rainy']] #confirming"
   ]
  },
  {
   "cell_type": "code",
   "execution_count": 20,
   "id": "738a1d3d",
   "metadata": {
    "scrolled": true
   },
   "outputs": [
    {
     "data": {
      "text/html": [
       "<div>\n",
       "<style scoped>\n",
       "    .dataframe tbody tr th:only-of-type {\n",
       "        vertical-align: middle;\n",
       "    }\n",
       "\n",
       "    .dataframe tbody tr th {\n",
       "        vertical-align: top;\n",
       "    }\n",
       "\n",
       "    .dataframe thead th {\n",
       "        text-align: right;\n",
       "    }\n",
       "</style>\n",
       "<table border=\"1\" class=\"dataframe\">\n",
       "  <thead>\n",
       "    <tr style=\"text-align: right;\">\n",
       "      <th></th>\n",
       "      <th>lost_found_items</th>\n",
       "      <th>first_aid_incidents</th>\n",
       "    </tr>\n",
       "  </thead>\n",
       "  <tbody>\n",
       "    <tr>\n",
       "      <th>0</th>\n",
       "      <td>1</td>\n",
       "      <td>9</td>\n",
       "    </tr>\n",
       "    <tr>\n",
       "      <th>1</th>\n",
       "      <td>6</td>\n",
       "      <td>2</td>\n",
       "    </tr>\n",
       "    <tr>\n",
       "      <th>2</th>\n",
       "      <td>3</td>\n",
       "      <td>3</td>\n",
       "    </tr>\n",
       "    <tr>\n",
       "      <th>3</th>\n",
       "      <td>4</td>\n",
       "      <td>4</td>\n",
       "    </tr>\n",
       "    <tr>\n",
       "      <th>4</th>\n",
       "      <td>3</td>\n",
       "      <td>7</td>\n",
       "    </tr>\n",
       "  </tbody>\n",
       "</table>\n",
       "</div>"
      ],
      "text/plain": [
       "   lost_found_items  first_aid_incidents\n",
       "0                 1                    9\n",
       "1                 6                    2\n",
       "2                 3                    3\n",
       "3                 4                    4\n",
       "4                 3                    7"
      ]
     },
     "execution_count": 20,
     "metadata": {},
     "output_type": "execute_result"
    }
   ],
   "source": [
    "lobster[['lost_found_items','first_aid_incidents']].head() #original values of two columns"
   ]
  },
  {
   "cell_type": "code",
   "execution_count": 31,
   "id": "5c90509e",
   "metadata": {
    "scrolled": false
   },
   "outputs": [
    {
     "data": {
      "text/html": [
       "<div>\n",
       "<style scoped>\n",
       "    .dataframe tbody tr th:only-of-type {\n",
       "        vertical-align: middle;\n",
       "    }\n",
       "\n",
       "    .dataframe tbody tr th {\n",
       "        vertical-align: top;\n",
       "    }\n",
       "\n",
       "    .dataframe thead th {\n",
       "        text-align: right;\n",
       "    }\n",
       "</style>\n",
       "<table border=\"1\" class=\"dataframe\">\n",
       "  <thead>\n",
       "    <tr style=\"text-align: right;\">\n",
       "      <th></th>\n",
       "      <th>lost_found_items</th>\n",
       "      <th>first_aid_incidents</th>\n",
       "    </tr>\n",
       "  </thead>\n",
       "  <tbody>\n",
       "    <tr>\n",
       "      <th>0</th>\n",
       "      <td>1</td>\n",
       "      <td>9</td>\n",
       "    </tr>\n",
       "    <tr>\n",
       "      <th>1</th>\n",
       "      <td>6</td>\n",
       "      <td>2</td>\n",
       "    </tr>\n",
       "    <tr>\n",
       "      <th>2</th>\n",
       "      <td>3</td>\n",
       "      <td>3</td>\n",
       "    </tr>\n",
       "    <tr>\n",
       "      <th>3</th>\n",
       "      <td>4</td>\n",
       "      <td>4</td>\n",
       "    </tr>\n",
       "    <tr>\n",
       "      <th>4</th>\n",
       "      <td>3</td>\n",
       "      <td>7</td>\n",
       "    </tr>\n",
       "    <tr>\n",
       "      <th>...</th>\n",
       "      <td>...</td>\n",
       "      <td>...</td>\n",
       "    </tr>\n",
       "    <tr>\n",
       "      <th>94</th>\n",
       "      <td>8</td>\n",
       "      <td>2</td>\n",
       "    </tr>\n",
       "    <tr>\n",
       "      <th>95</th>\n",
       "      <td>5</td>\n",
       "      <td>3</td>\n",
       "    </tr>\n",
       "    <tr>\n",
       "      <th>96</th>\n",
       "      <td>4</td>\n",
       "      <td>5</td>\n",
       "    </tr>\n",
       "    <tr>\n",
       "      <th>97</th>\n",
       "      <td>5</td>\n",
       "      <td>5</td>\n",
       "    </tr>\n",
       "    <tr>\n",
       "      <th>98</th>\n",
       "      <td>2</td>\n",
       "      <td>2</td>\n",
       "    </tr>\n",
       "  </tbody>\n",
       "</table>\n",
       "<p>99 rows × 2 columns</p>\n",
       "</div>"
      ],
      "text/plain": [
       "    lost_found_items  first_aid_incidents\n",
       "0                  1                    9\n",
       "1                  6                    2\n",
       "2                  3                    3\n",
       "3                  4                    4\n",
       "4                  3                    7\n",
       "..               ...                  ...\n",
       "94                 8                    2\n",
       "95                 5                    3\n",
       "96                 4                    5\n",
       "97                 5                    5\n",
       "98                 2                    2\n",
       "\n",
       "[99 rows x 2 columns]"
      ]
     },
     "execution_count": 31,
     "metadata": {},
     "output_type": "execute_result"
    }
   ],
   "source": [
    "#F(c). Switch the values of two columns 'lost_found_items' and 'first_aid_incidents'\n",
    "lobster['A']=lobster['lost_found_items']\n",
    "lobster['B']=lobster['first_aid_incidents']\n",
    "\n",
    "lobster['first_aid_incidents']=lobster['A']\n",
    "lobster['lost_found_items']=lobster['B']\n",
    "\n",
    "lobster[['lost_found_items','first_aid_incidents']] #confirming if two columns are switched. They are switched."
   ]
  },
  {
   "cell_type": "markdown",
   "id": "d6907f7b",
   "metadata": {},
   "source": [
    "## G"
   ]
  },
  {
   "cell_type": "code",
   "execution_count": 94,
   "id": "582c116c",
   "metadata": {},
   "outputs": [
    {
     "name": "stdout",
     "output_type": "stream",
     "text": [
      "G(a)\n",
      "The total amount of revenue generated by Lobster Land in 2023 is 13347279.58\n"
     ]
    }
   ],
   "source": [
    "#G(a). What was the total amount of revenue generated by Lobster Land across the entire 2023 park season?\n",
    "total_revenue = lobster.total_rev.sum().round(2)\n",
    "\n",
    "print(\"G(a)\")\n",
    "print(f\"The total amount of revenue generated by Lobster Land in 2023 is {total_revenue}\")"
   ]
  },
  {
   "cell_type": "code",
   "execution_count": 98,
   "id": "1ebcf971",
   "metadata": {
    "scrolled": true
   },
   "outputs": [
    {
     "name": "stdout",
     "output_type": "stream",
     "text": [
      "G(b)\n",
      "The average lobsterama spending on very rainy days is 6262.2, and not very rainy day is 8045.287234042553\n",
      "The average park merchandise spending on very rainy days is 2585.4, and not very rainy day is 3578.531914893617\n"
     ]
    }
   ],
   "source": [
    "#G(b)  \n",
    "print(\"G(b)\")\n",
    "#How different was the average Lobsterama Spending on very rainy days vs. days that were not very rainy? \n",
    "restrant =lobster.groupby(very_rainy).lobsterama_rev.mean()\n",
    "print(f\"The average lobsterama spending on very rainy days is {restrant[1]}, and not very rainy day is {restrant[0]}\")\n",
    "\n",
    "# How different was the park merchandise spending on very rainy days, vs. not very rainy days? \n",
    "merch = lobster.groupby('very_rainy')['park_merch_rev'].mean()\n",
    "print(f\"The average park merchandise spending on very rainy days is {merch[1]}, and not very rainy day is {merch[0]}\")"
   ]
  },
  {
   "cell_type": "code",
   "execution_count": 102,
   "id": "d93cf560",
   "metadata": {},
   "outputs": [
    {
     "name": "stdout",
     "output_type": "stream",
     "text": [
      "0.28473814858077884\n",
      "0.3841308559192453\n"
     ]
    }
   ],
   "source": [
    "#In relative terms, which of these metrics showed a bigger difference? \n",
    "print((restrant[0] - restrant[1])/restrant[1])\n",
    "print((merch[0] - merch[1])/merch[1])"
   ]
  },
  {
   "cell_type": "markdown",
   "id": "853a7eb8",
   "metadata": {},
   "source": [
    "G(b). In relative terms, which of these metrics showed a bigger difference? \n",
    "- In relative terms, the park merchandise spending shows a more significant difference than the Lobsterama spending when it's a rainy day. When it's not rainy, the park merchandise revenue is 38% bigger than rainy days, compared to Lobsterama's 28% increase. This probably means the restaurant business is not easily influenced by the weather, but the merchandise business is."
   ]
  },
  {
   "cell_type": "code",
   "execution_count": 100,
   "id": "9cddb9f7",
   "metadata": {
    "scrolled": true
   },
   "outputs": [
    {
     "data": {
      "text/plain": [
       "0.08304029626399437"
      ]
     },
     "execution_count": 100,
     "metadata": {},
     "output_type": "execute_result"
    }
   ],
   "source": [
    "#G(c). \n",
    "np.corrcoef(lobster['high_temp'],lobster['lost_found_items'])[0,1]"
   ]
  },
  {
   "cell_type": "markdown",
   "id": "5e8befd3",
   "metadata": {},
   "source": [
    "G(c). Is there correlation between high temperature and the number of new lost&found items?\n",
    "- The correlation between temperature and the number of lost items is about 0.08. It doesn't seem like people forget things more easily on hot days."
   ]
  },
  {
   "cell_type": "markdown",
   "id": "5e62fb04",
   "metadata": {},
   "source": [
    "## H"
   ]
  },
  {
   "cell_type": "code",
   "execution_count": 105,
   "id": "cef26eb2",
   "metadata": {},
   "outputs": [
    {
     "name": "stdout",
     "output_type": "stream",
     "text": [
      "H(a)\n",
      "The standard deviation of Gold Zone revenue is 1968.5139260449635\n",
      "The standard deviation of total daily park revenue is 30792.624316665166\n"
     ]
    }
   ],
   "source": [
    "# H(a). Find the standard deviation of Gold Zone revenue, the standard deviation of total daily park revenue. \n",
    "gold_std=np.std(lobster.gold_zone_rev)\n",
    "totalrev_std=np.std(lobster.total_rev)\n",
    "\n",
    "print(\"H(a)\")\n",
    "print(\"The standard deviation of Gold Zone revenue is\", gold_std)\n",
    "print(\"The standard deviation of total daily park revenue is\", totalrev_std)"
   ]
  },
  {
   "cell_type": "markdown",
   "id": "ca699ed4",
   "metadata": {},
   "source": [
    "H(b). Why is it misleading to directly compare these two numbers when\n",
    "comparing these variables’ relative levels of dispersion?\n",
    "\n",
    "- The two variables have different scales and their standard deviations are also in different scales. Because one is for the whole theme park but the other is for part of the theme park. When comparing two variables, using the coefficient of variation is correct.\n"
   ]
  },
  {
   "cell_type": "code",
   "execution_count": 108,
   "id": "737c50da",
   "metadata": {},
   "outputs": [
    {
     "name": "stdout",
     "output_type": "stream",
     "text": [
      "F(c).i\n",
      "CV for the gold zone is 24.75294148678686 and for the total daily park revenue is 22.839634017390164.\n"
     ]
    }
   ],
   "source": [
    "# F(c) Now, find the coefficient of variation (CV) for the gold zone and for the total daily park revenue.\n",
    "a = (gold_std / lobster.gold_zone_rev.mean()) *100\n",
    "b = (totalrev_std / lobster.total_rev.mean()) *100\n",
    "\n",
    "print(\"F(c).i\")\n",
    "print(f\"CV for the gold zone is {a} and for the total daily park revenue is {b}.\")"
   ]
  },
  {
   "cell_type": "markdown",
   "id": "19068208",
   "metadata": {},
   "source": [
    "F(c).ii\n",
    "- CV is used for comparing relative variations between different data sets having different units or scales, like gold zone revenue and total daily revenue. "
   ]
  },
  {
   "cell_type": "markdown",
   "id": "3cc1fc42",
   "metadata": {},
   "source": [
    "## I"
   ]
  },
  {
   "cell_type": "code",
   "execution_count": null,
   "id": "b1a820cc",
   "metadata": {},
   "outputs": [],
   "source": [
    "Are there any missing values in this dataset? If so, how many total values are\n",
    "missing, and from which column(s) are they missing? Use Python code to answer\n",
    "this question.\n",
    "a. It might be tempting at first to think that we should impute (replace)\n",
    "these values with another number. However, we do not necessarily need\n",
    "to do this. Why might it be okay to simply leave these NaNs alone?\n"
   ]
  },
  {
   "cell_type": "code",
   "execution_count": 112,
   "id": "902c05ee",
   "metadata": {
    "scrolled": false
   },
   "outputs": [
    {
     "data": {
      "text/plain": [
       "Date                   0\n",
       "weekday                0\n",
       "high_temp              0\n",
       "precip_total           0\n",
       "unique_visitors        0\n",
       "gold_zone_rev          0\n",
       "park_merch_rev         0\n",
       "online_merch_rev       0\n",
       "lobsterama_rev         0\n",
       "lost_found_items       0\n",
       "first_aid_incidents    0\n",
       "operational_status     5\n",
       "staff_hours            3\n",
       "total_rev              0\n",
       "sign_ups24             0\n",
       "merch_promo            0\n",
       "weekend                0\n",
       "very_rainy             0\n",
       "A                      0\n",
       "B                      0\n",
       "dtype: int64"
      ]
     },
     "execution_count": 112,
     "metadata": {},
     "output_type": "execute_result"
    }
   ],
   "source": [
    "lobster.isnull().sum()"
   ]
  },
  {
   "cell_type": "markdown",
   "id": "d765d400",
   "metadata": {},
   "source": [
    "I. \n",
    "- There are 8 missing values in total in the dataset, from 'operational_status' and 'staff_hours' columns."
   ]
  },
  {
   "cell_type": "markdown",
   "id": "128b729c",
   "metadata": {},
   "source": [
    "I(a). Why might it be okay to simply leave these NaNs alone?\n",
    "- Imputing the NaNs might skew the data and lead to biased data. Therefore, leaving NaNs as it is might be better in some situations when the missing values represent certain trends. \n"
   ]
  },
  {
   "cell_type": "markdown",
   "id": "0439f3f9",
   "metadata": {},
   "source": [
    "## J"
   ]
  },
  {
   "cell_type": "code",
   "execution_count": 113,
   "id": "2371cb1e",
   "metadata": {},
   "outputs": [],
   "source": [
    "#J(a)\n",
    "lobster = lobster.rename(columns = {\"precip_total\": \"Precip_Total\"})"
   ]
  },
  {
   "cell_type": "markdown",
   "id": "8ec21870",
   "metadata": {},
   "source": [
    "# Data Visualization"
   ]
  },
  {
   "cell_type": "markdown",
   "id": "9d982abc",
   "metadata": {},
   "source": [
    "## K"
   ]
  },
  {
   "cell_type": "code",
   "execution_count": 116,
   "id": "9995254c",
   "metadata": {},
   "outputs": [
    {
     "data": {
      "text/plain": [
       "Text(0.5, 1.0, 'Lobsterama revenue')"
      ]
     },
     "execution_count": 116,
     "metadata": {},
     "output_type": "execute_result"
    },
    {
     "data": {
      "image/png": "[encoded data removed]",
      "text/plain": [
       "<Figure size 640x480 with 1 Axes>"
      ]
     },
     "metadata": {},
     "output_type": "display_data"
    }
   ],
   "source": [
    "# K. generate a histogram of lobsterama revenue\n",
    "plt.hist(lobster['lobsterama_rev'])\n",
    "plt.title('Lobsterama revenue')"
   ]
  },
  {
   "cell_type": "markdown",
   "id": "dc176e08",
   "metadata": {},
   "source": [
    "K(a). It's not normal distributed and right skewed. There was over 16 days that had daily revenue around 7000."
   ]
  },
  {
   "cell_type": "code",
   "execution_count": 128,
   "id": "d05e6cf1",
   "metadata": {},
   "outputs": [
    {
     "data": {
      "text/plain": [
       "Text(0.5, 0.98, 'Lobsterama revenue')"
      ]
     },
     "execution_count": 128,
     "metadata": {},
     "output_type": "execute_result"
    },
    {
     "data": {
      "image/png": "[encoded data removed]",
      "text/plain": [
       "<Figure size 640x480 with 1 Axes>"
      ]
     },
     "metadata": {},
     "output_type": "display_data"
    }
   ],
   "source": [
    "#K(b)\n",
    "plt.hist(lobster['lobsterama_rev'], bins=50) # change the binsize\n",
    "plt.title('bin size 50', size = 10)\n",
    "plt.suptitle('Lobsterama revenue')\n"
   ]
  },
  {
   "cell_type": "markdown",
   "id": "2a123f55",
   "metadata": {},
   "source": [
    "K(b)\n",
    "- The more significant number of bins provides more detailed information on data distribution. This allows us to examine how much money a restaurant makes.\n"
   ]
  },
  {
   "cell_type": "code",
   "execution_count": 136,
   "id": "e61530d9",
   "metadata": {},
   "outputs": [
    {
     "data": {
      "text/plain": [
       "<matplotlib.legend.Legend at 0x7fc1197f14f0>"
      ]
     },
     "execution_count": 136,
     "metadata": {},
     "output_type": "execute_result"
    },
    {
     "data": {
      "image/png": "[encoded data removed]",
      "text/plain": [
       "<Figure size 640x480 with 1 Axes>"
      ]
     },
     "metadata": {},
     "output_type": "display_data"
    }
   ],
   "source": [
    "plt.hist(lobster.loc[lobster['weekend'] == 1, 'lobsterama_rev'], alpha=0.3, color='green', label='Weekend')\n",
    "plt.hist(lobster.loc[lobster['weekend'] == 0, 'lobsterama_rev'], alpha=0.7, color='yellow', label='Weekday')\n",
    "plt.title('Lobsterama Revenue')\n",
    "plt.legend()"
   ]
  },
  {
   "cell_type": "markdown",
   "id": "8fc513d9",
   "metadata": {},
   "source": [
    "K(c)\n",
    "- The distribution of Lobsterama revenue between weekends and weekdays looks reasonable.  More people would visit Lobsterama on weekends, leading to higher revenue than on weekdays. Therefore,  the revenue distribution is left-skewed on weekdays and right-skewed on weekends."
   ]
  },
  {
   "cell_type": "markdown",
   "id": "8e5a524e",
   "metadata": {},
   "source": [
    "## L"
   ]
  },
  {
   "cell_type": "code",
   "execution_count": 140,
   "id": "b0ae8ef1",
   "metadata": {},
   "outputs": [
    {
     "data": {
      "text/plain": [
       "Text(0.5, 1.0, 'Number of unique visitors everyday')"
      ]
     },
     "execution_count": 140,
     "metadata": {},
     "output_type": "execute_result"
    },
    {
     "data": {
      "image/png": "[encoded data removed]",
      "text/plain": [
       "<Figure size 640x480 with 1 Axes>"
      ]
     },
     "metadata": {},
     "output_type": "display_data"
    }
   ],
   "source": [
    "sns.swarmplot(x=lobster['weekday'], y=lobster['unique_visitors'],palette='viridis') \n",
    "#Generate a beeswarm plot that depicts ‘weekday’ on one axis,and unique visitors on the other.\n",
    "plt.ylabel('Unique Visitors')\n",
    "plt.title('Number of unique visitors everyday')"
   ]
  },
  {
   "cell_type": "markdown",
   "id": "2d44e2db",
   "metadata": {},
   "source": [
    "L(a)\n",
    "- Weekends tend to have more unique visitors."
   ]
  },
  {
   "cell_type": "code",
   "execution_count": 145,
   "id": "83ae0b6f",
   "metadata": {},
   "outputs": [
    {
     "data": {
      "text/html": [
       "<div>\n",
       "<style scoped>\n",
       "    .dataframe tbody tr th:only-of-type {\n",
       "        vertical-align: middle;\n",
       "    }\n",
       "\n",
       "    .dataframe tbody tr th {\n",
       "        vertical-align: top;\n",
       "    }\n",
       "\n",
       "    .dataframe thead th {\n",
       "        text-align: right;\n",
       "    }\n",
       "</style>\n",
       "<table border=\"1\" class=\"dataframe\">\n",
       "  <thead>\n",
       "    <tr style=\"text-align: right;\">\n",
       "      <th></th>\n",
       "      <th>Date</th>\n",
       "      <th>weekday</th>\n",
       "      <th>high_temp</th>\n",
       "      <th>Precip_Total</th>\n",
       "      <th>unique_visitors</th>\n",
       "      <th>gold_zone_rev</th>\n",
       "      <th>park_merch_rev</th>\n",
       "      <th>online_merch_rev</th>\n",
       "      <th>lobsterama_rev</th>\n",
       "      <th>lost_found_items</th>\n",
       "      <th>first_aid_incidents</th>\n",
       "      <th>operational_status</th>\n",
       "      <th>staff_hours</th>\n",
       "      <th>total_rev</th>\n",
       "      <th>sign_ups24</th>\n",
       "      <th>merch_promo</th>\n",
       "      <th>weekend</th>\n",
       "      <th>very_rainy</th>\n",
       "      <th>A</th>\n",
       "      <th>B</th>\n",
       "    </tr>\n",
       "  </thead>\n",
       "  <tbody>\n",
       "    <tr>\n",
       "      <th>0</th>\n",
       "      <td>2023-05-29</td>\n",
       "      <td>Mon</td>\n",
       "      <td>71</td>\n",
       "      <td>0.0</td>\n",
       "      <td>5448</td>\n",
       "      <td>9623</td>\n",
       "      <td>6028</td>\n",
       "      <td>39</td>\n",
       "      <td>9665</td>\n",
       "      <td>1</td>\n",
       "      <td>9</td>\n",
       "      <td>95.4</td>\n",
       "      <td>2042.83</td>\n",
       "      <td>193414.58</td>\n",
       "      <td>61.0</td>\n",
       "      <td>0</td>\n",
       "      <td>0</td>\n",
       "      <td>0</td>\n",
       "      <td>9</td>\n",
       "      <td>1</td>\n",
       "    </tr>\n",
       "    <tr>\n",
       "      <th>98</th>\n",
       "      <td>2023-09-04</td>\n",
       "      <td>Mon</td>\n",
       "      <td>81</td>\n",
       "      <td>0.0</td>\n",
       "      <td>5315</td>\n",
       "      <td>8623</td>\n",
       "      <td>5490</td>\n",
       "      <td>640</td>\n",
       "      <td>9718</td>\n",
       "      <td>2</td>\n",
       "      <td>2</td>\n",
       "      <td>90.0</td>\n",
       "      <td>1924.81</td>\n",
       "      <td>182146.72</td>\n",
       "      <td>180.6</td>\n",
       "      <td>0</td>\n",
       "      <td>0</td>\n",
       "      <td>0</td>\n",
       "      <td>2</td>\n",
       "      <td>2</td>\n",
       "    </tr>\n",
       "  </tbody>\n",
       "</table>\n",
       "</div>"
      ],
      "text/plain": [
       "          Date weekday  high_temp  Precip_Total  unique_visitors  \\\n",
       "0   2023-05-29     Mon         71           0.0             5448   \n",
       "98  2023-09-04     Mon         81           0.0             5315   \n",
       "\n",
       "    gold_zone_rev  park_merch_rev  online_merch_rev  lobsterama_rev  \\\n",
       "0            9623            6028                39            9665   \n",
       "98           8623            5490               640            9718   \n",
       "\n",
       "    lost_found_items  first_aid_incidents  operational_status  staff_hours  \\\n",
       "0                  1                    9                95.4      2042.83   \n",
       "98                 2                    2                90.0      1924.81   \n",
       "\n",
       "    total_rev  sign_ups24  merch_promo  weekend  very_rainy  A  B  \n",
       "0   193414.58        61.0            0        0           0  9  1  \n",
       "98  182146.72       180.6            0        0           0  2  2  "
      ]
     },
     "execution_count": 145,
     "metadata": {},
     "output_type": "execute_result"
    }
   ],
   "source": [
    "# check the two unusually high points for monday and tuesday\n",
    "lobster_mon = lobster[lobster['weekday'] == 'Mon']\n",
    "lobster_mon.sort_values(by='unique_visitors', ascending=False).head(2)"
   ]
  },
  {
   "cell_type": "code",
   "execution_count": 147,
   "id": "a1732435",
   "metadata": {},
   "outputs": [
    {
     "data": {
      "text/html": [
       "<div>\n",
       "<style scoped>\n",
       "    .dataframe tbody tr th:only-of-type {\n",
       "        vertical-align: middle;\n",
       "    }\n",
       "\n",
       "    .dataframe tbody tr th {\n",
       "        vertical-align: top;\n",
       "    }\n",
       "\n",
       "    .dataframe thead th {\n",
       "        text-align: right;\n",
       "    }\n",
       "</style>\n",
       "<table border=\"1\" class=\"dataframe\">\n",
       "  <thead>\n",
       "    <tr style=\"text-align: right;\">\n",
       "      <th></th>\n",
       "      <th>Date</th>\n",
       "      <th>weekday</th>\n",
       "      <th>high_temp</th>\n",
       "      <th>Precip_Total</th>\n",
       "      <th>unique_visitors</th>\n",
       "      <th>gold_zone_rev</th>\n",
       "      <th>park_merch_rev</th>\n",
       "      <th>online_merch_rev</th>\n",
       "      <th>lobsterama_rev</th>\n",
       "      <th>lost_found_items</th>\n",
       "      <th>first_aid_incidents</th>\n",
       "      <th>operational_status</th>\n",
       "      <th>staff_hours</th>\n",
       "      <th>total_rev</th>\n",
       "      <th>sign_ups24</th>\n",
       "      <th>merch_promo</th>\n",
       "      <th>weekend</th>\n",
       "      <th>very_rainy</th>\n",
       "      <th>A</th>\n",
       "      <th>B</th>\n",
       "    </tr>\n",
       "  </thead>\n",
       "  <tbody>\n",
       "    <tr>\n",
       "      <th>36</th>\n",
       "      <td>2023-07-04</td>\n",
       "      <td>Tue</td>\n",
       "      <td>76</td>\n",
       "      <td>0.27</td>\n",
       "      <td>5357</td>\n",
       "      <td>9057</td>\n",
       "      <td>5176</td>\n",
       "      <td>1059</td>\n",
       "      <td>9839</td>\n",
       "      <td>0</td>\n",
       "      <td>5</td>\n",
       "      <td>96.7</td>\n",
       "      <td>2052.36</td>\n",
       "      <td>194360.43</td>\n",
       "      <td>83.0</td>\n",
       "      <td>0</td>\n",
       "      <td>0</td>\n",
       "      <td>0</td>\n",
       "      <td>5</td>\n",
       "      <td>0</td>\n",
       "    </tr>\n",
       "  </tbody>\n",
       "</table>\n",
       "</div>"
      ],
      "text/plain": [
       "          Date weekday  high_temp  Precip_Total  unique_visitors  \\\n",
       "36  2023-07-04     Tue         76          0.27             5357   \n",
       "\n",
       "    gold_zone_rev  park_merch_rev  online_merch_rev  lobsterama_rev  \\\n",
       "36           9057            5176              1059            9839   \n",
       "\n",
       "    lost_found_items  first_aid_incidents  operational_status  staff_hours  \\\n",
       "36                 0                    5                96.7      2052.36   \n",
       "\n",
       "    total_rev  sign_ups24  merch_promo  weekend  very_rainy  A  B  \n",
       "36  194360.43        83.0            0        0           0  5  0  "
      ]
     },
     "execution_count": 147,
     "metadata": {},
     "output_type": "execute_result"
    }
   ],
   "source": [
    "lobster_tue = lobster[lobster['weekday'] == 'Tue']\n",
    "lobster_tue.sort_values(by='unique_visitors', ascending=False).head(1)"
   ]
  },
  {
   "cell_type": "markdown",
   "id": "8982098d",
   "metadata": {},
   "source": [
    "L(c)\n",
    "- The unusual 3 days having a big number of unique visitors were holidays: May 29 (Memorial Day), September 4 (Labor Day), July 4 (Independence Day). They had uncommon high number of unique visitors even though it was weekdays. "
   ]
  },
  {
   "cell_type": "markdown",
   "id": "c0241f37",
   "metadata": {},
   "source": [
    "## M"
   ]
  },
  {
   "cell_type": "code",
   "execution_count": 149,
   "id": "150942c2",
   "metadata": {},
   "outputs": [
    {
     "data": {
      "text/plain": [
       "Text(0.5, 1.0, 'Visitors vs First Aid')"
      ]
     },
     "execution_count": 149,
     "metadata": {},
     "output_type": "execute_result"
    },
    {
     "data": {
      "image/png": "[encoded data removed]",
      "text/plain": [
       "<Figure size 800x600 with 1 Axes>"
      ]
     },
     "metadata": {},
     "output_type": "display_data"
    }
   ],
   "source": [
    "plt.figure(figsize=(8, 6))\n",
    "plt.scatter(lobster.unique_visitors, lobster.first_aid_incidents)\n",
    "plt.xlabel(\"Total Number of Visitors\")\n",
    "plt.ylabel(\"Total Number of First Aid Incidents\")\n",
    "plt.title(\"Visitors vs First Aid\")"
   ]
  },
  {
   "cell_type": "markdown",
   "id": "f5e85edc",
   "metadata": {},
   "source": [
    "M(a)\n",
    "- The graph doesn't show strong correlation between the number of visitors and total nu ber of first aid incidents. It would be hard to predict the number of first aid incidents using total number of visitors."
   ]
  },
  {
   "cell_type": "markdown",
   "id": "ce459e10",
   "metadata": {},
   "source": [
    "## N"
   ]
  },
  {
   "cell_type": "code",
   "execution_count": 171,
   "id": "e996d818",
   "metadata": {},
   "outputs": [
    {
     "data": {
      "text/plain": [
       "<matplotlib.legend.Legend at 0x7fc0c87faf70>"
      ]
     },
     "execution_count": 171,
     "metadata": {},
     "output_type": "execute_result"
    },
    {
     "data": {
      "image/png": "[encoded data removed]",
      "text/plain": [
       "<Figure size 640x480 with 1 Axes>"
      ]
     },
     "metadata": {},
     "output_type": "display_data"
    }
   ],
   "source": [
    "boxplot = sns.boxplot(data=lobster, x='very_rainy', y='gold_zone_rev',palette=['pink', 'green'])\n",
    "plt.ylabel('Gold Zone Revenue')\n",
    "plt.xlabel('Rain Amount')\n",
    "plt.title('Rain VS Gold Zone Revenue')\n",
    "custom = [plt.Line2D([0], [0], color='pink', lw=4),plt.Line2D([0], [0], color='green', lw=4)]\n",
    "legend_labels = ['Light Rain', 'Heavy Rain']\n",
    "# Add legend\n",
    "boxplot.legend(custom, legend_labels)"
   ]
  },
  {
   "cell_type": "markdown",
   "id": "236c4ffd",
   "metadata": {},
   "source": [
    "N(a)\n",
    "- The Gold zone's average revenue for heavy rainy days is higher than for light rainy days. This is very odd. This is probably because The number of observations for heavy rainy days is only 5, which is small, so the sample size is not enough to represent the heavy rainy days. Therefore, the boxplot above is biased and not trustworthy."
   ]
  },
  {
   "cell_type": "markdown",
   "id": "aaa35b8a",
   "metadata": {},
   "source": [
    "## O"
   ]
  },
  {
   "cell_type": "code",
   "execution_count": 191,
   "id": "d8364699",
   "metadata": {},
   "outputs": [
    {
     "data": {
      "image/png": "[encoded data removed]",
      "text/plain": [
       "<Figure size 640x480 with 1 Axes>"
      ]
     },
     "metadata": {},
     "output_type": "display_data"
    }
   ],
   "source": [
    "#compare average park merchandise sales on days with the promotion vs. days without the promotion\n",
    "fill = ['blue' if promotion == 0 else 'green' for promotion in lobster['merch_promo']]\n",
    "plt.bar(lobster['merch_promo'], lobster[\"park_merch_rev\"], color=fill)\n",
    "plt.xlabel('Merchandise Promotion')\n",
    "plt.ylabel('Merchandise Revenue')\n",
    "plt.title('Merchandise Promotion VS Merchandise Revenue')\n",
    "\n",
    "plt.xticks([0, 1], [\"No Promo\", \"Yes Promo\"])\n",
    "plt.show()"
   ]
  },
  {
   "cell_type": "code",
   "execution_count": 197,
   "id": "bfcfe3c5",
   "metadata": {
    "scrolled": false
   },
   "outputs": [
    {
     "data": {
      "image/png": "[encoded data removed]",
      "text/plain": [
       "<Figure size 640x480 with 1 Axes>"
      ]
     },
     "metadata": {},
     "output_type": "display_data"
    }
   ],
   "source": [
    "average_parkmerch = lobster.groupby('merch_promo')['park_merch_rev'].mean()\n",
    "plt.bar(average_parkmerch.index, average_parkmerch.values, color=['pink', 'orange'])\n",
    "plt.xlabel('Merchandise Promotion')\n",
    "plt.ylabel('Average Merch Revenue')\n",
    "plt.title('Average Merchandise Revenue VS Promo')\n",
    "# set x-axis tick marks\n",
    "plt.xticks([0, 1], [\"No Promo\", \"Yes Promo\"])\n",
    "plt.show()"
   ]
  },
  {
   "cell_type": "code",
   "execution_count": 208,
   "id": "72b032ec",
   "metadata": {},
   "outputs": [
    {
     "data": {
      "text/plain": [
       "25"
      ]
     },
     "execution_count": 208,
     "metadata": {},
     "output_type": "execute_result"
    }
   ],
   "source": [
    "len(lobster[lobster['merch_promo']==1])"
   ]
  },
  {
   "cell_type": "markdown",
   "id": "bd1ffa3e",
   "metadata": {},
   "source": [
    "O.\n",
    "- The second barplot shows that the difference in average merch revenue between days with and without a promo is not so much. But the first barplot shows that days without promotion have more cumulative revenue. Like the previous graph, the sample size could be the problem since the sample size for days with promo is only 25. So, days without promotion might have more cumulative sales because they have more observations. The graphs above are not trustworthy."
   ]
  },
  {
   "cell_type": "markdown",
   "id": "74ec56f9",
   "metadata": {},
   "source": [
    "## P"
   ]
  },
  {
   "cell_type": "code",
   "execution_count": 213,
   "id": "c5cc4582",
   "metadata": {},
   "outputs": [
    {
     "data": {
      "text/plain": [
       "Text(0.5, 1.0, 'Sign-ups for 2024 in 2023')"
      ]
     },
     "execution_count": 213,
     "metadata": {},
     "output_type": "execute_result"
    },
    {
     "data": {
      "image/png": "[encoded data removed]",
      "text/plain": [
       "<Figure size 640x480 with 1 Axes>"
      ]
     },
     "metadata": {},
     "output_type": "display_data"
    }
   ],
   "source": [
    "# Generate a lineplot, placing ‘Date’ on the x-axis, and 2024 season pass sign-ups on the y-axis\n",
    "sns.lineplot(x=pd.to_datetime(lobster['Date'], format='%Y-%m-%d'), y=lobster['sign_ups24'])\n",
    "plt.gca().xaxis.set_major_formatter(plt.matplotlib.dates.DateFormatter('%b-%d'))\n",
    "plt.gcf().autofmt_xdate()\n",
    "plt.ylabel('2024 season pass sign-ups')\n",
    "plt.title('Sign-ups for 2024 in 2023')"
   ]
  },
  {
   "cell_type": "markdown",
   "id": "4cb9f5f4",
   "metadata": {},
   "source": [
    "P(a)\n",
    "- We can see that there's a clear rapid increase at the end of the year. This might be because people were hesitant to sign up until the very last minute to purchase and eventually decided to buy it."
   ]
  },
  {
   "cell_type": "markdown",
   "id": "22cc21d4",
   "metadata": {},
   "source": [
    "# Wildcard: Metrics and “Quantified Self”"
   ]
  },
  {
   "cell_type": "markdown",
   "id": "bdc0bea8",
   "metadata": {},
   "source": [
    "a) Screen Time on Youtube"
   ]
  },
  {
   "cell_type": "markdown",
   "id": "6485d0ca",
   "metadata": {},
   "source": [
    "b) \n",
    "- Thursday, Sep 21 : 1hr 24m\n",
    "- Friday, Sep 22: 2hr 59m\n",
    "- Saturday, Sep 23: 5hr 39m"
   ]
  },
  {
   "cell_type": "markdown",
   "id": "8c3a95a1",
   "metadata": {},
   "source": [
    "c)\n",
    "It is interesting that I spent way more time watching YouTube on weekends(Thursday) than on weekdays(Friday and Saturday). The screen time on Friday looks plausible, but Saturday's screen time is way off the average duration. This data is inadequate to see my general time spent on YouTube because I was sick on Saturday, so I used my phone more than usual lying on the bed. Tracking the time didn't change my behavior this week, but I believe in the long term, it would change me. I am willing to experiment with checking the time spent on my phone because it surely wastes time that could be used for other valuable leisure. I also believe less phone usage will clarify my brain, leading to a productive work routine.\n"
   ]
  },
  {
   "cell_type": "code",
   "execution_count": null,
   "id": "9f95347a",
   "metadata": {},
   "outputs": [],
   "source": []
  }
 ],
 "metadata": {
  "kernelspec": {
   "display_name": "Python 3 (ipykernel)",
   "language": "python",
   "name": "python3"
  },
  "language_info": {
   "codemirror_mode": {
    "name": "ipython",
    "version": 3
   },
   "file_extension": ".py",
   "mimetype": "text/x-python",
   "name": "python",
   "nbconvert_exporter": "python",
   "pygments_lexer": "ipython3",
   "version": "3.9.13"
  }
 },
 "nbformat": 4,
 "nbformat_minor": 5
}
