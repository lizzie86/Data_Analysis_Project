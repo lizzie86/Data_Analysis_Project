{
 "cells": [
  {
   "cell_type": "code",
   "execution_count": 1,
   "id": "c5b9d95d",
   "metadata": {},
   "outputs": [],
   "source": [
    "import requests\n",
    "import pandas as pd\n",
    "from bs4 import BeautifulSoup\n",
    "from datetime import datetime, timedelta"
   ]
  },
  {
   "cell_type": "code",
   "execution_count": 51,
   "id": "c6870d99",
   "metadata": {},
   "outputs": [],
   "source": [
    "# Function to check if a date is within the past 2 years\n",
    "def within_past_2_months(date_string):\n",
    "    current_date = datetime.now() #current date\n",
    "    news_date = datetime.strptime(date_string, \"%B %d, %Y\")  \n",
    "    two_months_ago = current_date - timedelta(days=30*2)  # Approximate 2 months as 30 days each\n",
    "    return news_date >= two_months_ago \n",
    "        #compares date with the current date. \n",
    "# It returns True if the date is within the past 2 years."
   ]
  },
  {
   "cell_type": "code",
   "execution_count": 48,
   "id": "c17313b6",
   "metadata": {},
   "outputs": [
    {
     "name": "stdout",
     "output_type": "stream",
     "text": [
      "Page number: 1\n",
      "https://www.amnesty.org/en/news/page/1/\n",
      "Link: https://www.amnesty.org/en/latest/news/2023/09/iraq-four-years-after-tishreen-protests-no-justice-for-state-and-militia-violence/\n",
      "Date: September 27, 2023\n",
      "**else**\n",
      "< Header > Iraq: Four years after Tishreen protests, no justice for state and militia violence\n",
      "< Body >\n",
      "****************************************************************\n",
      "Link: https://www.amnesty.org/en/latest/news/2023/09/india-government-weaponizing-terrorism-financing-watchdog-recommendations-against-civil-society/\n",
      "Date: September 27, 2023\n",
      "**else**\n",
      "< Header > India: Government weaponizing terrorism financing watchdog recommendations against civil society\n",
      "< Body >\n",
      "****************************************************************\n",
      "Link: https://www.amnesty.org/en/latest/news/2023/09/thailand-upcoming-verdict-in-case-of-murdered-indigenous-activist-billy-must-deliver-justice/\n",
      "Date: September 26, 2023\n",
      "**else**\n",
      "< Header > Thailand: Upcoming verdict in case of murdered Indigenous activist ‘Billy’ must deliver justice\n",
      "< Body >\n",
      "****************************************************************\n",
      "Link: https://www.amnesty.org/en/latest/news/2023/09/six-young-people-to-present-landmark-climate-case-before-the-european-court-of-human-rights/\n",
      "Date: September 26, 2023\n",
      "**else**\n",
      "< Header > Europe: Six young people to present landmark climate case before the European Court of Human Rights\n",
      "< Body >\n",
      "****************************************************************\n",
      "Link: https://www.amnesty.org/en/latest/news/2023/09/yemen-end-unfair-trial-against-human-rights-defender-fatma-al-arwali/\n",
      "Date: September 25, 2023\n",
      "**else**\n",
      "< Header > Yemen: End unfair trial against human rights defender Fatma al-Arwali\n",
      "< Body >\n",
      "****************************************************************\n",
      "Link: https://www.amnesty.org/en/latest/news/2023/09/dominican-republic-racist-treatment-right-to-nationality/\n",
      "Date: September 22, 2023\n",
      "It is not within two months\n",
      "---------------------------Page 1-------------------------------\n"
     ]
    }
   ],
   "source": [
    "page_html=[] #create list for different pages' html\n",
    "urls = [] #create list to hold news urls\n",
    "dates = [] # create list to hold news dates\n",
    "body_list=[] # create list to hold news body\n",
    "header_list=[] # create list to hold news header\n",
    "\n",
    "page_count = 0\n",
    "stop_loop = False  # To control when to stop the loop\n",
    "\n",
    "while not stop_loop:\n",
    "    \n",
    "    page_count += 1\n",
    "    print(f\"Page number: {page_count}\") #Displaying page number     \n",
    "    \n",
    "    page_URL = 'https://www.amnesty.org/en/news/page/{}/'.format(page_count) \n",
    "    print(page_URL)\n",
    "    USER_AGENT='Mozilla/5.0 (Windows NT 10.0; Win64; x64) AppleWebKit/537.36 (KHTML, like Gecko) Chrome/115.0.0.0 Safari/537.36'\n",
    "    headers = {\"user-agent\": USER_AGENT} \n",
    "    page = requests.get(page_URL, headers=headers)\n",
    "    soup = BeautifulSoup(page.content, \"html.parser\")\n",
    "    \n",
    "    page_html.append(soup) #store page htmls \n",
    "    \n",
    "    for html in page_html:\n",
    "        \n",
    "        # find all 'article' on html code on each page\n",
    "        newsletters = html.find_all(\"article\", class_=\"post postImage--small aimc-ignore\") \n",
    "        for newsletter in newsletters:\n",
    "            link = newsletter.figure.a[\"href\"]\n",
    "            urls.append(link) #store the links\n",
    "            date = newsletter.find(\"span\", class_=\"post-meta\").get_text().strip()\n",
    "            dates.append(date) # store the dates\n",
    "            \n",
    "            print(f\"Link: {link}\")\n",
    "            print(f\"Date: {date}\")\n",
    "            \n",
    "            # Check if the date is not within the past 2 years\n",
    "            if not within_past_2_months(date):\n",
    "                stop_loop = True\n",
    "                print(\"It is not within two months\")\n",
    "                break  # Break the loop if the condition is met\n",
    "            else:\n",
    "                print(\"**else**\")\n",
    "            \n",
    "                      \n",
    "                #getting content from one link    \n",
    "                URL2 = link\n",
    "                page = requests.get(URL2, headers=headers)\n",
    "                soup =  BeautifulSoup(page.content, \"html.parser\")\n",
    "                contents = soup.find_all(\"section\", class_=\"article has-sidebar\") #html code for news contents\n",
    "                \n",
    "                for content in contents:\n",
    "                #extract text of header\n",
    "                    header = content.find(\"h1\",class_=\"article-title\").get_text().strip() \n",
    "                    #multiple paragraphs starting with tag 'p'\n",
    "                    body = content.find(\"article\",class_=\"article-content\").find_all('p') \n",
    "                    print(f\"< Header > {header}\") \n",
    "                    print(\"< Body >\")\n",
    "                    print(\"****************************************************************\") # news division\n",
    "                    body_content =[] #temporary list to hold all paragraphs\n",
    "                \n",
    "                    # extract text of multiple paragraphs\n",
    "                    for i in range(0,len(body)): # range(start, stop)\n",
    "                                #stop: An integer number specifying at which position to stop (not included).\n",
    "                        body_text=body[i].get_text().strip() #get text from each paragraph\n",
    "                        body_content.append(body_text) #store paragrahs\n",
    "                    #print(body_content)\n",
    "                \n",
    "                    header_list.append(header) #store header\n",
    "                    body_list.append(body_content)#store body using list 'body_content'\n",
    "           \n",
    "        print(f\"---------------------------Page {page_count}-------------------------------\") #page division\n",
    "        if stop_loop:\n",
    "            break  # Break the outer loop if the condition is met\n",
    "  \n",
    "    "
   ]
  },
  {
   "cell_type": "markdown",
   "id": "cd8caf23",
   "metadata": {},
   "source": [
    "## dataframe to csv file"
   ]
  },
  {
   "cell_type": "code",
   "execution_count": 37,
   "id": "4bd74dc3",
   "metadata": {},
   "outputs": [
    {
     "data": {
      "text/plain": [
       "['Download',\n",
       " 'Indian authorities are exploiting the recommendations of a global terrorism financing and money laundering watchdog to target civil society groups and activists and deliberately hinder their work, said Amnesty International in a new briefing released today.',\n",
       " '“Weaponizing counter-terrorism: India’s exploitation of terrorism financing assessments to target civil society” reveals how the recommendations of the Financial Action Task Force (FATF)—a global body responsible for tackling terrorism financing and money laundering—have been abused by the Indian authorities to bring in draconian laws in a coordinated campaign to stifle the non-profit sector. These laws are in turn used to bring terrorism-related charges and, amongst other things, to prevent organizations and activists from accessing essential funds.',\n",
       " '“Under the guise of combatting terrorism, the Indian government has leveraged the Financial Action Task Force’s recommendations to tighten its arsenal of financial and counter-terrorism laws which are routinely misused to target and silence critics. The FATF must hold the Indian authorities accountable for the persistent weaponization of its recommendations,” said Aakar Patel, chair of the board at Amnesty International India.',\n",
       " '“By abusing these laws, the authorities in India have failed to comply with both FATF standards and international human rights law.”',\n",
       " 'The FATF must hold the Indian authorities accountable for the persistent weaponization of its recommendations.',\n",
       " 'Non-governmental organizations in India require a “foreign contribution licence” to access foreign funds as established by the Foreign Contribution (Regulation) Act(FCRA). The introduction of this bill in 2006 coincided with India becoming an observer state of the FATF. Later in 2010, amendments were made to the act to improve India’s ‘non-compliant’ status. Since then, however, and specifically in the last ten years, more than 20,600 NGOs have had their licences cancelled with nearly 6,000 of these cancellations occurring since the beginning of 2022.',\n",
       " 'In a survey by Amnesty International, 11 out of 16 NGOs (working on issues relating to minorities, marginalized groups and climate change) confirmed the arbitrary renunciation of their foreign contribution licences through suspensions, cancellations, and non-renewals. The organizations said that the authorities provided only vague reasons, including accusing them of “bringing disrepute to public institutions”, “working against public or national interest” or alluding to their human rights work. Most of the groups Amnesty International spoke to said they have had to reduce their staff by 50 to 80 percent, drastically affecting the scope of their work. “Almost all our programmes have been shut down … [We are] surviving just to fight the legal cases that have been filed against us,” one activist said.',\n",
       " 'The 2020 and earlier amendments to the FCRA, however, do not conform with FATF’s Recommendation 8, which requires that laws and regulations target only those Non-Profit Organizations that a country has identified — through a careful, targeted “risk-based” analysis — as vulnerable to terrorism financing abuse.',\n",
       " 'None of the NGOs Amnesty International spoke with were contacted for a “risk-assessment” by the Indian government, despite FATF having specifically highlighted the lack of outreach in its 2010 and 2013 Mutual Evaluation Reports. Such actions also do not meet the guidelines laid down by the FATF’s interpretative note on Recommendation 8 which aims to minimize the unintended consequences faced by the non-profit sector by calling for specific and targeted counter-terrorism measures.',\n",
       " 'By abusing these laws, the authorities in India have failed to comply with both FATF standards and international human rights law.',\n",
       " 'The enactment of the Prevention of Money Laundering Act, 2002 (PMLA) and the 2012 amendments to the Unlawful Activities (Prevention) Act (UAPA), India’s main counter-terrorism law, were among the pre-conditions to India becoming the 34th member of the FATF.',\n",
       " 'Over time, amendments to these laws, based on the FATF’s recommendations in India’s last evaluations in 2010 and 2013, led to FATF changing India’s rating from “Non-Compliant” to “Largely Compliant”.',\n",
       " 'However, United Nations’ special rapporteurs have repeatedly called out the contentious and overbroad provisions of UAPA which both violate international human rights law and standards and contradict the FATF’s own guiding principles. The Indian authorities have ignored all such calls and have continued to apply these laws in a discriminatory manner against dissenting voices such as Muslim student activist Umar Khalid, Kashmiri human rights activist Khurram Parvez, journalist Irfan Mehraj and 16 others (in the Bhima Koregaon case), ten of whom continue to be detained since 2018 without trial on allegations of ‘funding terrorism’, amongst other charges. The PMLA has also been used to target Amnesty International forcing the organization to halt its operations in the country in September 2020.',\n",
       " '“The motivation behind these measures is purely political and designed to create an environment hostile to international organisations. The FATF must not allow these laws to be used by the Indian authorities to systematically erode the rights to freedom of association and freedom of expression in the country, particularly of civil society actors and religious minorities,” said Aakar Patel.',\n",
       " 'The FATF must not allow these laws to be used by the Indian authorities to systematically erode the rights to freedom of association and freedom of expression in the country, particularly of civil society actors and religious minorities.',\n",
       " 'Amnesty International recommends that the UAPA, PMLA and FCRA should be repealed or significantly amended to bring them in line with International human rights standards. Most importantly, not-for-profit organizations, including the ones that have faced adverse actions under the three laws, must be consulted in the FATF’s upcoming assessment of India. The Indian authorities must ensure that the exercise of the rights to freedom of expression, association and assembly are effectively protected.',\n",
       " 'The Financial Action Task Force (FATF), of which India has been a member since 2010, is an intergovernmental body with 37 member states mandated to tackle global money laundering and terrorist financing. It advances its work through a set of recommendations – comprised of 40 internationally endorsed global standards – to guide national authorities’ implementation of “legal, regulatory and operational measures for combating money laundering, terrorist financing and other related threats to the integrity of the financial system.”',\n",
       " 'The publication of the new briefing by Amnesty International comes ahead of India’s fourth round of the mutual evaluation process of the Financial Action Task Force (FATF) in November 2023.']"
      ]
     },
     "execution_count": 37,
     "metadata": {},
     "output_type": "execute_result"
    }
   ],
   "source": [
    "body_list[1]"
   ]
  },
  {
   "cell_type": "code",
   "execution_count": 49,
   "id": "8f4edf12",
   "metadata": {
    "scrolled": false
   },
   "outputs": [
    {
     "data": {
      "text/html": [
       "<div>\n",
       "<style scoped>\n",
       "    .dataframe tbody tr th:only-of-type {\n",
       "        vertical-align: middle;\n",
       "    }\n",
       "\n",
       "    .dataframe tbody tr th {\n",
       "        vertical-align: top;\n",
       "    }\n",
       "\n",
       "    .dataframe thead th {\n",
       "        text-align: right;\n",
       "    }\n",
       "</style>\n",
       "<table border=\"1\" class=\"dataframe\">\n",
       "  <thead>\n",
       "    <tr style=\"text-align: right;\">\n",
       "      <th></th>\n",
       "      <th>URL</th>\n",
       "      <th>Date</th>\n",
       "      <th>Header</th>\n",
       "      <th>Body</th>\n",
       "    </tr>\n",
       "  </thead>\n",
       "  <tbody>\n",
       "    <tr>\n",
       "      <th>0</th>\n",
       "      <td>https://www.amnesty.org/en/latest/news/2023/09...</td>\n",
       "      <td>September 27, 2023</td>\n",
       "      <td>Iraq: Four years after Tishreen protests, no j...</td>\n",
       "      <td>[The Iraqi authorities must ensure truth, just...</td>\n",
       "    </tr>\n",
       "    <tr>\n",
       "      <th>1</th>\n",
       "      <td>https://www.amnesty.org/en/latest/news/2023/09...</td>\n",
       "      <td>September 27, 2023</td>\n",
       "      <td>India: Government weaponizing terrorism financ...</td>\n",
       "      <td>[Download, Indian authorities are exploiting t...</td>\n",
       "    </tr>\n",
       "    <tr>\n",
       "      <th>2</th>\n",
       "      <td>https://www.amnesty.org/en/latest/news/2023/09...</td>\n",
       "      <td>September 26, 2023</td>\n",
       "      <td>Thailand: Upcoming verdict in case of murdered...</td>\n",
       "      <td>[Ahead of the expected verdict on Thursday (28...</td>\n",
       "    </tr>\n",
       "  </tbody>\n",
       "</table>\n",
       "</div>"
      ],
      "text/plain": [
       "                                                 URL                Date  \\\n",
       "0  https://www.amnesty.org/en/latest/news/2023/09...  September 27, 2023   \n",
       "1  https://www.amnesty.org/en/latest/news/2023/09...  September 27, 2023   \n",
       "2  https://www.amnesty.org/en/latest/news/2023/09...  September 26, 2023   \n",
       "\n",
       "                                              Header  \\\n",
       "0  Iraq: Four years after Tishreen protests, no j...   \n",
       "1  India: Government weaponizing terrorism financ...   \n",
       "2  Thailand: Upcoming verdict in case of murdered...   \n",
       "\n",
       "                                                Body  \n",
       "0  [The Iraqi authorities must ensure truth, just...  \n",
       "1  [Download, Indian authorities are exploiting t...  \n",
       "2  [Ahead of the expected verdict on Thursday (28...  "
      ]
     },
     "execution_count": 49,
     "metadata": {},
     "output_type": "execute_result"
    }
   ],
   "source": [
    "#converting information into dataframe\n",
    "df=pd.DataFrame(list(zip(urls,dates,header_list, body_list)),columns =['URL','Date','Header','Body'])\n",
    "\n",
    "df[0:3]"
   ]
  },
  {
   "cell_type": "code",
   "execution_count": 50,
   "id": "6f14e37b",
   "metadata": {},
   "outputs": [],
   "source": [
    "df.to_csv(\"news_scraped.csv\",index=True ) #converting the dataframe to csv file."
   ]
  },
  {
   "cell_type": "code",
   "execution_count": null,
   "id": "01b4800b",
   "metadata": {},
   "outputs": [],
   "source": []
  },
  {
   "cell_type": "code",
   "execution_count": null,
   "id": "030d0cb4",
   "metadata": {},
   "outputs": [],
   "source": []
  }
 ],
 "metadata": {
  "kernelspec": {
   "display_name": "Python 3 (ipykernel)",
   "language": "python",
   "name": "python3"
  },
  "language_info": {
   "codemirror_mode": {
    "name": "ipython",
    "version": 3
   },
   "file_extension": ".py",
   "mimetype": "text/x-python",
   "name": "python",
   "nbconvert_exporter": "python",
   "pygments_lexer": "ipython3",
   "version": "3.9.13"
  }
 },
 "nbformat": 4,
 "nbformat_minor": 5
}
